{
 "cells": [
  {
   "cell_type": "code",
   "execution_count": 1,
   "id": "0266cbe2",
   "metadata": {},
   "outputs": [],
   "source": [
    "import numpy as np\n",
    "from tensorflow import keras\n",
    "from tensorflow.keras.preprocessing import image"
   ]
  },
  {
   "cell_type": "code",
   "execution_count": 2,
   "id": "ef894537",
   "metadata": {},
   "outputs": [],
   "source": [
    "model = keras.models.load_model('full_model.h5')"
   ]
  },
  {
   "cell_type": "code",
   "execution_count": 13,
   "id": "293d9ad5",
   "metadata": {},
   "outputs": [],
   "source": [
    "img = image.load_img('face2.jpg', target_size=(56, 56))\n",
    "\n",
    "# Preprocess the image\n",
    "img_array = image.img_to_array(img) / 255.0\n",
    "img_array = np.expand_dims(img_array, axis=0)"
   ]
  },
  {
   "cell_type": "code",
   "execution_count": 14,
   "id": "fd6b2d6c",
   "metadata": {},
   "outputs": [
    {
     "name": "stdout",
     "output_type": "stream",
     "text": [
      "1/1 [==============================] - 0s 32ms/step\n"
     ]
    }
   ],
   "source": [
    "# Predict the emotion\n",
    "prediction = model.predict(img_array)\n",
    "\n",
    "# Get the index of the highest confidence prediction\n",
    "predicted_class = np.argmax(prediction, axis=1)"
   ]
  },
  {
   "cell_type": "code",
   "execution_count": 15,
   "id": "57614093",
   "metadata": {},
   "outputs": [],
   "source": [
    "emotions = ['Angry', 'Disgust', 'Fear', 'Happy', 'Sad', 'Surprise', 'Neutral']\n",
    "predicted_emotion = emotions[predicted_class[0]]"
   ]
  },
  {
   "cell_type": "code",
   "execution_count": 16,
   "id": "e5332d0f",
   "metadata": {},
   "outputs": [
    {
     "name": "stdout",
     "output_type": "stream",
     "text": [
      "The predicted emotion is: Sad\n"
     ]
    }
   ],
   "source": [
    "print('The predicted emotion is:', predicted_emotion)"
   ]
  }
 ],
 "metadata": {
  "kernelspec": {
   "display_name": "Python 3 (ipykernel)",
   "language": "python",
   "name": "python3"
  },
  "language_info": {
   "codemirror_mode": {
    "name": "ipython",
    "version": 3
   },
   "file_extension": ".py",
   "mimetype": "text/x-python",
   "name": "python",
   "nbconvert_exporter": "python",
   "pygments_lexer": "ipython3",
   "version": "3.10.9"
  }
 },
 "nbformat": 4,
 "nbformat_minor": 5
}
